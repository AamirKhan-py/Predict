{
  "nbformat": 4,
  "nbformat_minor": 0,
  "metadata": {
    "colab": {
      "name": "classifier.ipynb",
      "provenance": [],
      "authorship_tag": "ABX9TyM2WLY3uAimDGTDE6QbRIm9",
      "include_colab_link": true
    },
    "kernelspec": {
      "name": "python3",
      "display_name": "Python 3"
    }
  },
  "cells": [
    {
      "cell_type": "markdown",
      "metadata": {
        "id": "view-in-github",
        "colab_type": "text"
      },
      "source": [
        "<a href=\"https://colab.research.google.com/github/AamirKhan-py/Predict/blob/main/classifier.ipynb\" target=\"_parent\"><img src=\"https://colab.research.google.com/assets/colab-badge.svg\" alt=\"Open In Colab\"/></a>"
      ]
    },
    {
      "cell_type": "code",
      "metadata": {
        "id": "Ok5Mr65Irhah"
      },
      "source": [
        "#Importing Modules\n",
        "\n",
        "import pandas as pd\n",
        "import numpy as np\n",
        "from sklearn.model_selection import train_test_split\n",
        "from sklearn.metrics import classification_report, confusion_matrix, accuracy_score, mean_squared_error"
      ],
      "execution_count": 82,
      "outputs": []
    },
    {
      "cell_type": "code",
      "metadata": {
        "id": "wYlJr6_t8Zi0"
      },
      "source": [
        "#Reading The Dataset\n",
        "\n",
        "df = pd.read_csv('/content/gdrive/My Drive/Classification/dataset.csv')"
      ],
      "execution_count": 83,
      "outputs": []
    },
    {
      "cell_type": "code",
      "metadata": {
        "id": "nGK9VxDR1qSe"
      },
      "source": [
        "#Splitting the Dataset into Training & Testing set randomly\n",
        "\n",
        "X = df.drop('label', axis=1)\n",
        "y = df['label']\n",
        "X_train, X_test, y_train, y_test = train_test_split( X, y, test_size=0.3, random_state = 1)"
      ],
      "execution_count": 84,
      "outputs": []
    },
    {
      "cell_type": "code",
      "metadata": {
        "id": "Coukzozp-nR8"
      },
      "source": [
        "# 1- Using Gaussian Naive Bayes Algorithm\n",
        "\n",
        "from sklearn.naive_bayes import GaussianNB\n",
        "model = GaussianNB()\n",
        "model.fit( X_train , y_train )\n",
        "\n",
        "y_pred = model.predict(X_test)\n",
        "df1 = pd.DataFrame({ 'Actual Output ': y_test, 'Predicted Output': y_pred })\n",
        "df1"
      ],
      "execution_count": null,
      "outputs": []
    },
    {
      "cell_type": "code",
      "metadata": {
        "id": "yPa8BtPQBGPM"
      },
      "source": [
        "# Checking the results( RMSE, Accuracy, Confusion Matrix and Classification report)\n",
        "\n",
        "rms = np.sqrt(mean_squared_error(y_test, y_pred))\n",
        "print(rms)\n",
        "print(classification_report(y_test, y_pred))\n",
        "print(confusion_matrix(y_test, y_pred))\n",
        "print(accuracy_score(y_test, y_pred)*100)"
      ],
      "execution_count": null,
      "outputs": []
    },
    {
      "cell_type": "code",
      "metadata": {
        "id": "1Ku0IYIADJic"
      },
      "source": [
        "# 2- Using SVM Algorithm\n",
        "\n",
        "from sklearn import svm\n",
        "model = svm.SVC(kernel='linear', C=1.0)\n",
        "model.fit(X_train, y_train)\n",
        "\n",
        "y_pred = clf.predict(X_test)\n",
        "df1 = pd.DataFrame({ 'Actual Output ': y_test, 'Predicted Output': y_pred })\n",
        "df1"
      ],
      "execution_count": null,
      "outputs": []
    },
    {
      "cell_type": "code",
      "metadata": {
        "id": "5wdosgIvE6yA"
      },
      "source": [
        "# Checking the results( RMSE, Accuracy, Confusion Matrix and Classification report)\n",
        "\n",
        "rms = np.sqrt(mean_squared_error(y_test, y_pred))\n",
        "print(rms)\n",
        "print(classification_report(y_test, y_pred))\n",
        "print(confusion_matrix(y_test, y_pred))\n",
        "print(accuracy_score(y_test, y_pred)*100)"
      ],
      "execution_count": null,
      "outputs": []
    },
    {
      "cell_type": "code",
      "metadata": {
        "id": "2UgamuotFqIN"
      },
      "source": [
        "# 3- Using Random Forest Algorithm\n",
        "\n",
        "from sklearn.ensemble import RandomForestClassifier\n",
        "model = RandomForestClassifier(n_estimators = 50)\n",
        "model.fit(X_train, y_train)\n",
        "\n",
        "y_pred = classifier.predict(X_test)\n",
        "df1 = pd.DataFrame({ 'Actual Output ': y_test, 'Predicted Output': y_pred })\n",
        "df1"
      ],
      "execution_count": null,
      "outputs": []
    },
    {
      "cell_type": "code",
      "metadata": {
        "id": "QmaxJxFOGZ-u"
      },
      "source": [
        "# Checking the results( RMSE, Accuracy, Confusion Matrix and Classification report)\n",
        "\n",
        "rms = np.sqrt(mean_squared_error(y_test, y_pred))\n",
        "print(rms)\n",
        "print(classification_report(y_test, y_pred))\n",
        "print(confusion_matrix(y_test, y_pred))\n",
        "print(accuracy_score(y_test, y_pred)*100)"
      ],
      "execution_count": null,
      "outputs": []
    }
  ]
}